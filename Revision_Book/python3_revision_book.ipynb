{
  "nbformat": 4,
  "nbformat_minor": 0,
  "metadata": {
    "colab": {
      "name": "python3 revision book",
      "provenance": [],
      "collapsed_sections": [],
      "toc_visible": true
    },
    "kernelspec": {
      "name": "python3",
      "display_name": "Python 3"
    }
  },
  "cells": [
    {
      "cell_type": "markdown",
      "metadata": {
        "id": "NdFCbIxclC-X"
      },
      "source": [
        "# Interning --> reusing objects on-demand\n",
        "At startup, Python (CPython), pre-loads (caches) a global list of integers in the range [-5, 256]\n",
        "Any time an integer is referenced in that range, Python will use the cached version of that object"
      ]
    },
    {
      "cell_type": "code",
      "metadata": {
        "colab": {
          "base_uri": "https://localhost:8080/"
        },
        "id": "jZ1kNwuElh3f",
        "outputId": "c4dcbc2d-c0c3-4418-fb2f-c9ad980d90e8"
      },
      "source": [
        "a = 10\n",
        "b = 10\n",
        "a is b"
      ],
      "execution_count": null,
      "outputs": [
        {
          "output_type": "execute_result",
          "data": {
            "text/plain": [
              "True"
            ]
          },
          "metadata": {
            "tags": []
          },
          "execution_count": 23
        }
      ]
    },
    {
      "cell_type": "code",
      "metadata": {
        "colab": {
          "base_uri": "https://localhost:8080/"
        },
        "id": "2TYrqIjWnKz3",
        "outputId": "d4a1ffe6-c5b6-47a3-9865-d9ea678ee4a0"
      },
      "source": [
        "a = 257\n",
        "b = 257\n",
        "a is b"
      ],
      "execution_count": null,
      "outputs": [
        {
          "output_type": "execute_result",
          "data": {
            "text/plain": [
              "False"
            ]
          },
          "metadata": {
            "tags": []
          },
          "execution_count": 25
        }
      ]
    },
    {
      "cell_type": "code",
      "metadata": {
        "colab": {
          "base_uri": "https://localhost:8080/"
        },
        "id": "YpxnL9sjnSaK",
        "outputId": "c8746c2a-981d-4ac2-96e9-0ee7d1f64432"
      },
      "source": [
        "#string interning\n",
        "a = \"hello_sekhar\"\n",
        "b = \"hello_sekhar\"\n",
        "a is b"
      ],
      "execution_count": null,
      "outputs": [
        {
          "output_type": "execute_result",
          "data": {
            "text/plain": [
              "True"
            ]
          },
          "metadata": {
            "tags": []
          },
          "execution_count": 31
        }
      ]
    },
    {
      "cell_type": "code",
      "metadata": {
        "colab": {
          "base_uri": "https://localhost:8080/"
        },
        "id": "NtPQtltkpBP5",
        "outputId": "3e51a2ed-34b7-409c-bad4-51e5f56629cf"
      },
      "source": [
        "a = \"the quick brown fox\"\n",
        "b = \"the quick brown fox\"\n",
        "a is b"
      ],
      "execution_count": null,
      "outputs": [
        {
          "output_type": "execute_result",
          "data": {
            "text/plain": [
              "False"
            ]
          },
          "metadata": {
            "tags": []
          },
          "execution_count": 33
        }
      ]
    },
    {
      "cell_type": "code",
      "metadata": {
        "colab": {
          "base_uri": "https://localhost:8080/"
        },
        "id": "8nWKIp1SpMnz",
        "outputId": "3ad928a3-e540-4fd8-88bf-b0a081b1e605"
      },
      "source": [
        "import sys\n",
        "a = sys.intern(\"the quick brown fox\")\n",
        "b = sys.intern(\"the quick brown fox\")\n",
        "a is b"
      ],
      "execution_count": null,
      "outputs": [
        {
          "output_type": "execute_result",
          "data": {
            "text/plain": [
              "True"
            ]
          },
          "metadata": {
            "tags": []
          },
          "execution_count": 34
        }
      ]
    },
    {
      "cell_type": "code",
      "metadata": {
        "id": "I-Ns99OwvmG7"
      },
      "source": [
        "# Comparing time with address and equality\n",
        "import time\n",
        "from functools import wraps\n",
        "def time_it(fn):\n",
        "  @wraps(fn)\n",
        "  def inner(*args, **kwargs):\n",
        "    start = time.perf_counter()\n",
        "    print(fn(*args, **kwargs))\n",
        "    end = time.perf_counter()\n",
        "    print(f'the time difference of {fn.__name__} is : {end - start}')\n",
        "  return inner"
      ],
      "execution_count": null,
      "outputs": []
    },
    {
      "cell_type": "code",
      "metadata": {
        "id": "RZKHCHnCvv6v"
      },
      "source": [
        "@time_it\n",
        "def equality_test(a,b):\n",
        "  return a == b\n",
        "\n",
        "@time_it\n",
        "def address_test(a,b):\n",
        "  return a is b"
      ],
      "execution_count": null,
      "outputs": []
    },
    {
      "cell_type": "code",
      "metadata": {
        "colab": {
          "base_uri": "https://localhost:8080/"
        },
        "id": "7hLyU5qpwMPS",
        "outputId": "459e983b-6eea-439c-d78e-be5a31f7c4f6"
      },
      "source": [
        "a = 'a long string that is not interned'*500\n",
        "b = 'a long string that is not interned'*500\n",
        "equality_test(a,b)\n",
        "address_test(a,b)"
      ],
      "execution_count": null,
      "outputs": [
        {
          "output_type": "stream",
          "text": [
            "True\n",
            "the time difference of equality_test is : 0.0008193680005206261\n",
            "False\n",
            "the time difference of address_test is : 0.00016533699999854434\n"
          ],
          "name": "stdout"
        }
      ]
    },
    {
      "cell_type": "code",
      "metadata": {
        "colab": {
          "base_uri": "https://localhost:8080/"
        },
        "id": "_sY2qUmbxmon",
        "outputId": "105682cb-79a7-4c34-b445-9a2765ca83d5"
      },
      "source": [
        "#string intern\n",
        "a = sys.intern(a)\n",
        "b = sys.intern(b)\n",
        "equality_test(a,b)\n",
        "address_test(a,b)"
      ],
      "execution_count": null,
      "outputs": [
        {
          "output_type": "stream",
          "text": [
            "True\n",
            "the time difference of equality_test is : 0.000243021999267512\n",
            "True\n",
            "the time difference of address_test is : 2.4668999685673043e-05\n"
          ],
          "name": "stdout"
        }
      ]
    },
    {
      "cell_type": "markdown",
      "metadata": {
        "id": "Y6ATSvlp4y9V"
      },
      "source": [
        "# Operators"
      ]
    },
    {
      "cell_type": "code",
      "metadata": {
        "colab": {
          "base_uri": "https://localhost:8080/"
        },
        "id": "mECe05T442OB",
        "outputId": "5594debc-3adf-418e-9be8-87625392ae4c"
      },
      "source": [
        "# Floor division --> it will give us the integer part\n",
        "7//3"
      ],
      "execution_count": null,
      "outputs": [
        {
          "output_type": "execute_result",
          "data": {
            "text/plain": [
              "2"
            ]
          },
          "metadata": {
            "tags": []
          },
          "execution_count": 7
        }
      ]
    },
    {
      "cell_type": "code",
      "metadata": {
        "id": "nsrwTEO042AC",
        "colab": {
          "base_uri": "https://localhost:8080/"
        },
        "outputId": "54c5a292-0398-4dbc-a0ce-8f3234500fd6"
      },
      "source": [
        "# Bitwise AND --> \n",
        "print(bin(10))\n",
        "print(bin(4))\n",
        "\"\"\" 0b1010\n",
        "       &\n",
        "    0b0100\n",
        "       =\n",
        "    0b0000\"\"\"\n",
        "print(f'the value of 10&4 is {10&4}')\n",
        "print(bin(0))"
      ],
      "execution_count": null,
      "outputs": [
        {
          "output_type": "stream",
          "text": [
            "0b1010\n",
            "0b100\n",
            "the value of 10&4 is 0\n",
            "0b0\n"
          ],
          "name": "stdout"
        }
      ]
    },
    {
      "cell_type": "code",
      "metadata": {
        "id": "6aSbW8DW41-C",
        "colab": {
          "base_uri": "https://localhost:8080/"
        },
        "outputId": "66491a0b-d522-409e-acc7-a767c3235a84"
      },
      "source": [
        "# Bitwise OR --> \n",
        "print(bin(10))\n",
        "print(bin(4))\n",
        "\"\"\" 0b1010\n",
        "       |\n",
        "    0b0100\n",
        "       =\n",
        "    0b1110\"\"\"\n",
        "print(f'the value of 10|4 is {10|4}')\n",
        "print(bin(14))"
      ],
      "execution_count": null,
      "outputs": [
        {
          "output_type": "stream",
          "text": [
            "0b1010\n",
            "0b100\n",
            "the value of 10|4 is 14\n",
            "0b1110\n"
          ],
          "name": "stdout"
        }
      ]
    },
    {
      "cell_type": "code",
      "metadata": {
        "id": "1mT-RPe1416l",
        "colab": {
          "base_uri": "https://localhost:8080/"
        },
        "outputId": "32807a1c-69e5-4e71-9dee-4d97ade26284"
      },
      "source": [
        "# Bitwise NOT (~) --> -i + 1\n",
        "print(~10)"
      ],
      "execution_count": null,
      "outputs": [
        {
          "output_type": "stream",
          "text": [
            "-11\n"
          ],
          "name": "stdout"
        }
      ]
    },
    {
      "cell_type": "code",
      "metadata": {
        "colab": {
          "base_uri": "https://localhost:8080/"
        },
        "id": "qDS_s095AZ-s",
        "outputId": "cdfd819d-fe97-4322-8381-f1da7dab8795"
      },
      "source": [
        "# Bitwise XOR --> \n",
        "print(bin(10))\n",
        "print(bin(4))\n",
        "\"\"\" 0b1010\n",
        "       ^\n",
        "    0b0100\n",
        "       =\n",
        "    0b1110\"\"\"\n",
        "print(f'the value of 10^4 is {10^4}')\n",
        "print(bin(14))"
      ],
      "execution_count": null,
      "outputs": [
        {
          "output_type": "stream",
          "text": [
            "0b1010\n",
            "0b100\n",
            "the value of 10^4 is 14\n",
            "0b1110\n"
          ],
          "name": "stdout"
        }
      ]
    },
    {
      "cell_type": "code",
      "metadata": {
        "colab": {
          "base_uri": "https://localhost:8080/"
        },
        "id": "NmqTz2wrDBEM",
        "outputId": "d089b6d2-5dfe-4ed7-8811-8af0c0a680a4"
      },
      "source": [
        "# Left Shift operator --> <<\n",
        "\"\"\" 0b1010\n",
        "      <<\n",
        "    0b0001\n",
        "       =\n",
        "    0b10100\"\"\"\n",
        "print (10<<1)\n",
        "print (bin(20))"
      ],
      "execution_count": null,
      "outputs": [
        {
          "output_type": "stream",
          "text": [
            "20\n",
            "0b10100\n"
          ],
          "name": "stdout"
        }
      ]
    },
    {
      "cell_type": "code",
      "metadata": {
        "colab": {
          "base_uri": "https://localhost:8080/"
        },
        "id": "2Yg-_K43De7f",
        "outputId": "97f709a3-7242-49b2-9d9d-672ccf1f7c75"
      },
      "source": [
        "# Right Shift operator --> >>\n",
        "\"\"\" 0b1010\n",
        "      >>\n",
        "    0b0001\n",
        "       =\n",
        "    0b0101\"\"\"\n",
        "print (10>>1)\n",
        "print (bin(5))"
      ],
      "execution_count": null,
      "outputs": [
        {
          "output_type": "stream",
          "text": [
            "5\n",
            "0b101\n"
          ],
          "name": "stdout"
        }
      ]
    },
    {
      "cell_type": "markdown",
      "metadata": {
        "id": "yu-6LvwI4pcG"
      },
      "source": [
        "# Operator precedence"
      ]
    },
    {
      "cell_type": "code",
      "metadata": {
        "id": "jAYeicf53jsj"
      },
      "source": [
        "import pandas as pd"
      ],
      "execution_count": null,
      "outputs": []
    },
    {
      "cell_type": "code",
      "metadata": {
        "id": "EwzM8cDI3otP"
      },
      "source": [
        "\"\"\"Operator\tDescription\n",
        "**\tExponentiation (raise to the power)\n",
        "~ + -\tComplement, unary plus and minus (method names for the last two are +@ and -@)\n",
        "* / % //\tMultiply, divide, modulo and floor division\n",
        "+ -\tAddition and subtraction\n",
        ">> <<\tRight and left bitwise shift\n",
        "&\tBitwise 'AND'td>\n",
        "^ |\tBitwise exclusive `OR' and regular `OR'\n",
        "<= < > >=\tComparison operators\n",
        "<> == !=\tEquality operators\n",
        "= %= /= //= -= += *= **=\tAssignment operators\n",
        "is is not\tIdentity operators\n",
        "in not in\tMembership operators\n",
        "not or and\tLogical operators\"\"\""
      ],
      "execution_count": null,
      "outputs": []
    },
    {
      "cell_type": "code",
      "metadata": {
        "colab": {
          "base_uri": "https://localhost:8080/"
        },
        "id": "P-qbcLDCJYpB",
        "outputId": "50fc213f-c24d-45a6-8ae2-330d59f5aa3d"
      },
      "source": [
        "# Left to right associativity\n",
        "print(5 * 2 // 3)"
      ],
      "execution_count": null,
      "outputs": [
        {
          "output_type": "stream",
          "text": [
            "3\n"
          ],
          "name": "stdout"
        }
      ]
    },
    {
      "cell_type": "code",
      "metadata": {
        "colab": {
          "base_uri": "https://localhost:8080/"
        },
        "id": "ebSP-jFpJu_8",
        "outputId": "be488ba5-8a7d-4dc4-c1ce-b12f6a23b7c1"
      },
      "source": [
        "# Right to Left associativity\n",
        "print(2 ** 3 ** 2)"
      ],
      "execution_count": null,
      "outputs": [
        {
          "output_type": "stream",
          "text": [
            "512\n"
          ],
          "name": "stdout"
        }
      ]
    },
    {
      "cell_type": "code",
      "metadata": {
        "id": "K3iZftxGK7gg"
      },
      "source": [
        "x = y = z = 1"
      ],
      "execution_count": null,
      "outputs": []
    },
    {
      "cell_type": "code",
      "metadata": {
        "colab": {
          "base_uri": "https://localhost:8080/"
        },
        "id": "nzKpieoyK92-",
        "outputId": "fb0c31f3-4fed-4f3d-8c44-7cc3fe651d30"
      },
      "source": [
        "print(x,y,z)"
      ],
      "execution_count": null,
      "outputs": [
        {
          "output_type": "stream",
          "text": [
            "1 1 1\n"
          ],
          "name": "stdout"
        }
      ]
    },
    {
      "cell_type": "markdown",
      "metadata": {
        "id": "fZ0jW4hBNb1o"
      },
      "source": [
        "# Floats & Rounding"
      ]
    },
    {
      "cell_type": "code",
      "metadata": {
        "colab": {
          "base_uri": "https://localhost:8080/",
          "height": 35
        },
        "id": "jWMhqy2h2-AW",
        "outputId": "51184722-eaea-498d-d71d-a5b5c1899d76"
      },
      "source": [
        "format(0.1, '.25f')"
      ],
      "execution_count": null,
      "outputs": [
        {
          "output_type": "execute_result",
          "data": {
            "application/vnd.google.colaboratory.intrinsic+json": {
              "type": "string"
            },
            "text/plain": [
              "'0.1000000000000000055511151'"
            ]
          },
          "metadata": {
            "tags": []
          },
          "execution_count": 111
        }
      ]
    },
    {
      "cell_type": "code",
      "metadata": {
        "colab": {
          "base_uri": "https://localhost:8080/"
        },
        "id": "GdaucFFfMNc6",
        "outputId": "97ed310a-8c04-4a4c-cfad-56d892ca1626"
      },
      "source": [
        "round(1.23)"
      ],
      "execution_count": null,
      "outputs": [
        {
          "output_type": "execute_result",
          "data": {
            "text/plain": [
              "1"
            ]
          },
          "metadata": {
            "tags": []
          },
          "execution_count": 113
        }
      ]
    },
    {
      "cell_type": "code",
      "metadata": {
        "colab": {
          "base_uri": "https://localhost:8080/"
        },
        "id": "0yjMb6WKNfSv",
        "outputId": "69a9b2ac-9c78-421e-ee1c-1b07b460c4bc"
      },
      "source": [
        "round(1.23, 1)"
      ],
      "execution_count": null,
      "outputs": [
        {
          "output_type": "execute_result",
          "data": {
            "text/plain": [
              "1.2"
            ]
          },
          "metadata": {
            "tags": []
          },
          "execution_count": 114
        }
      ]
    },
    {
      "cell_type": "code",
      "metadata": {
        "colab": {
          "base_uri": "https://localhost:8080/"
        },
        "id": "sLuFvtkANt_w",
        "outputId": "52897058-4397-401e-dcb1-c40004eb5804"
      },
      "source": [
        "round(18.2)"
      ],
      "execution_count": null,
      "outputs": [
        {
          "output_type": "execute_result",
          "data": {
            "text/plain": [
              "18"
            ]
          },
          "metadata": {
            "tags": []
          },
          "execution_count": 115
        }
      ]
    },
    {
      "cell_type": "code",
      "metadata": {
        "colab": {
          "base_uri": "https://localhost:8080/"
        },
        "id": "oeOfoFJpN3Lw",
        "outputId": "2ee93b86-1375-48aa-e7fb-4737a74627e9"
      },
      "source": [
        "round(18.2, -1)"
      ],
      "execution_count": null,
      "outputs": [
        {
          "output_type": "execute_result",
          "data": {
            "text/plain": [
              "20.0"
            ]
          },
          "metadata": {
            "tags": []
          },
          "execution_count": 118
        }
      ]
    },
    {
      "cell_type": "code",
      "metadata": {
        "colab": {
          "base_uri": "https://localhost:8080/"
        },
        "id": "nAonCJ5LN5Bw",
        "outputId": "4bad02bc-c053-46b9-8df4-22ba1c9cc4f1"
      },
      "source": [
        "round(1.25,1)"
      ],
      "execution_count": null,
      "outputs": [
        {
          "output_type": "execute_result",
          "data": {
            "text/plain": [
              "1.2"
            ]
          },
          "metadata": {
            "tags": []
          },
          "execution_count": 119
        }
      ]
    },
    {
      "cell_type": "code",
      "metadata": {
        "colab": {
          "base_uri": "https://localhost:8080/"
        },
        "id": "Gal7OQ5_OMoh",
        "outputId": "3a68ff32-412f-41c1-ea1d-3c5d29615217"
      },
      "source": [
        "round(1.35,1)"
      ],
      "execution_count": null,
      "outputs": [
        {
          "output_type": "execute_result",
          "data": {
            "text/plain": [
              "1.4"
            ]
          },
          "metadata": {
            "tags": []
          },
          "execution_count": 120
        }
      ]
    },
    {
      "cell_type": "code",
      "metadata": {
        "id": "b9vSC3X1OhhU"
      },
      "source": [
        "# here it will round to the nearest even digit "
      ],
      "execution_count": null,
      "outputs": []
    },
    {
      "cell_type": "code",
      "metadata": {
        "colab": {
          "base_uri": "https://localhost:8080/"
        },
        "id": "-YBIwhhmOvMh",
        "outputId": "4ff85244-ca6c-42c9-dc36-e69a993c8e6d"
      },
      "source": [
        "round(0.5)-round(-0.5)"
      ],
      "execution_count": null,
      "outputs": [
        {
          "output_type": "execute_result",
          "data": {
            "text/plain": [
              "0"
            ]
          },
          "metadata": {
            "tags": []
          },
          "execution_count": 124
        }
      ]
    },
    {
      "cell_type": "code",
      "metadata": {
        "colab": {
          "base_uri": "https://localhost:8080/"
        },
        "id": "UmwTkCNfO1hB",
        "outputId": "e66b6ec8-4965-4cc3-d94d-dd7e480090da"
      },
      "source": [
        "round(15, -1)"
      ],
      "execution_count": null,
      "outputs": [
        {
          "output_type": "execute_result",
          "data": {
            "text/plain": [
              "20"
            ]
          },
          "metadata": {
            "tags": []
          },
          "execution_count": 126
        }
      ]
    },
    {
      "cell_type": "code",
      "metadata": {
        "colab": {
          "base_uri": "https://localhost:8080/"
        },
        "id": "5t1qLVhAPIYx",
        "outputId": "f05a2beb-7a45-45f9-dde6-4e227f5ac30d"
      },
      "source": [
        "round(25,-1)"
      ],
      "execution_count": null,
      "outputs": [
        {
          "output_type": "execute_result",
          "data": {
            "text/plain": [
              "20"
            ]
          },
          "metadata": {
            "tags": []
          },
          "execution_count": 128
        }
      ]
    },
    {
      "cell_type": "code",
      "metadata": {
        "colab": {
          "base_uri": "https://localhost:8080/"
        },
        "id": "qC8kcWsQPNxQ",
        "outputId": "00f711f7-22b5-46d9-97e1-a8ac79e40b5d"
      },
      "source": [
        "round(2.5,-1)"
      ],
      "execution_count": null,
      "outputs": [
        {
          "output_type": "execute_result",
          "data": {
            "text/plain": [
              "0.0"
            ]
          },
          "metadata": {
            "tags": []
          },
          "execution_count": 137
        }
      ]
    },
    {
      "cell_type": "code",
      "metadata": {
        "id": "Eu8Sl7_iQpgd"
      },
      "source": [
        ""
      ],
      "execution_count": null,
      "outputs": []
    },
    {
      "cell_type": "markdown",
      "metadata": {
        "id": "FNZyLqk8RUvt"
      },
      "source": [
        "# Positional Arguments"
      ]
    },
    {
      "cell_type": "code",
      "metadata": {
        "id": "NlVslHuqSVC1"
      },
      "source": [
        "def my_fun(a,b,c):\n",
        "  print(\"a = {}, b = {}, c = {}\".format(a,b,c))"
      ],
      "execution_count": null,
      "outputs": []
    },
    {
      "cell_type": "code",
      "metadata": {
        "colab": {
          "base_uri": "https://localhost:8080/"
        },
        "id": "A5lV3FgrSYFt",
        "outputId": "537380d6-202c-41db-caea-6ad17ef262a5"
      },
      "source": [
        "my_fun(1,2,3)"
      ],
      "execution_count": null,
      "outputs": [
        {
          "output_type": "stream",
          "text": [
            "a = 1, b = 2, c = 3\n"
          ],
          "name": "stdout"
        }
      ]
    },
    {
      "cell_type": "code",
      "metadata": {
        "id": "SB2TMrCuS_R3"
      },
      "source": [
        "def avrg(a, *arf):\n",
        "  print(\"The value of a is : {}, The value of other args are : {}\".format(a, arf))"
      ],
      "execution_count": null,
      "outputs": []
    },
    {
      "cell_type": "code",
      "metadata": {
        "colab": {
          "base_uri": "https://localhost:8080/"
        },
        "id": "Q9ah6vSXTG1-",
        "outputId": "120ad059-889f-4b11-e782-fdb12321fbd1"
      },
      "source": [
        "avrg(1,2,3,4,54)"
      ],
      "execution_count": null,
      "outputs": [
        {
          "output_type": "stream",
          "text": [
            "The value of a is : 1, The value of other args are : (2, 3, 4, 54)\n"
          ],
          "name": "stdout"
        }
      ]
    },
    {
      "cell_type": "code",
      "metadata": {
        "id": "S9A1wNSWTI-P"
      },
      "source": [
        "def avrg(*sekhar):\n",
        "  length = len(sekhar)\n",
        "  return sum(sekhar)/length"
      ],
      "execution_count": null,
      "outputs": []
    },
    {
      "cell_type": "code",
      "metadata": {
        "colab": {
          "base_uri": "https://localhost:8080/"
        },
        "id": "r43Faw-wTZPe",
        "outputId": "fc24f615-468e-433b-87d6-9c3431d2f1db"
      },
      "source": [
        "avrg(1,2,3,4,5,6,7,8,9,10)"
      ],
      "execution_count": null,
      "outputs": [
        {
          "output_type": "execute_result",
          "data": {
            "text/plain": [
              "5.5"
            ]
          },
          "metadata": {
            "tags": []
          },
          "execution_count": 170
        }
      ]
    },
    {
      "cell_type": "code",
      "metadata": {
        "colab": {
          "base_uri": "https://localhost:8080/"
        },
        "id": "_FNVWqHgVJAj",
        "outputId": "155248d9-a520-4d5b-dec9-a8ff67aa3734"
      },
      "source": [
        "a = [1,2,3,4,5,6,7,8,9,10]\n",
        "avrg(*a)"
      ],
      "execution_count": null,
      "outputs": [
        {
          "output_type": "execute_result",
          "data": {
            "text/plain": [
              "5.5"
            ]
          },
          "metadata": {
            "tags": []
          },
          "execution_count": 171
        }
      ]
    },
    {
      "cell_type": "code",
      "metadata": {
        "colab": {
          "base_uri": "https://localhost:8080/",
          "height": 129
        },
        "id": "KnDrMVRfWG0H",
        "outputId": "28469efc-0b6b-4900-bc83-3bbe5a2e9948"
      },
      "source": [
        "def func(a,b,c,d,*):\n",
        "  print(a,b,c,d)"
      ],
      "execution_count": null,
      "outputs": [
        {
          "output_type": "error",
          "ename": "SyntaxError",
          "evalue": "ignored",
          "traceback": [
            "\u001b[0;36m  File \u001b[0;32m\"<ipython-input-174-84fc126d1ecd>\"\u001b[0;36m, line \u001b[0;32m1\u001b[0m\n\u001b[0;31m    def func(a,b,c,d,*):\u001b[0m\n\u001b[0m                    ^\u001b[0m\n\u001b[0;31mSyntaxError\u001b[0m\u001b[0;31m:\u001b[0m named arguments must follow bare *\n"
          ]
        }
      ]
    },
    {
      "cell_type": "code",
      "metadata": {
        "id": "vkzfQOjqWNNi"
      },
      "source": [
        "def func(a,b,c,d,*,e):\n",
        "  print(a,b,c,d,e)"
      ],
      "execution_count": null,
      "outputs": []
    },
    {
      "cell_type": "code",
      "metadata": {
        "colab": {
          "base_uri": "https://localhost:8080/"
        },
        "id": "swy_qQIiWg1j",
        "outputId": "389e6c8c-0ed4-4fe0-f07a-08128d068328"
      },
      "source": [
        "func(1,2,3,4,e = 5)"
      ],
      "execution_count": null,
      "outputs": [
        {
          "output_type": "stream",
          "text": [
            "1 2 3 4 5\n"
          ],
          "name": "stdout"
        }
      ]
    },
    {
      "cell_type": "markdown",
      "metadata": {
        "id": "6JFP8gyUV8zI"
      },
      "source": [
        "# Keyword arguments (kwargs)"
      ]
    },
    {
      "cell_type": "code",
      "metadata": {
        "id": "sI90_MKEVz9R"
      },
      "source": [
        "def func(**sekhar):\n",
        "  print(sekhar)"
      ],
      "execution_count": null,
      "outputs": []
    },
    {
      "cell_type": "code",
      "metadata": {
        "colab": {
          "base_uri": "https://localhost:8080/"
        },
        "id": "xc26vrNRXL2S",
        "outputId": "6a2737ea-5d38-46e7-bbe7-34c87f8600a3"
      },
      "source": [
        "func(dhana = 1, sekhar = 2)"
      ],
      "execution_count": null,
      "outputs": [
        {
          "output_type": "stream",
          "text": [
            "{'dhana': 1, 'sekhar': 2}\n"
          ],
          "name": "stdout"
        }
      ]
    },
    {
      "cell_type": "code",
      "metadata": {
        "id": "pPVt7hTeXP6Q"
      },
      "source": [
        "a = {'key1':1, 'key2':2, 'key3':3}"
      ],
      "execution_count": null,
      "outputs": []
    },
    {
      "cell_type": "code",
      "metadata": {
        "id": "WZLXJpjRXYZ9"
      },
      "source": [
        "def func(**sekhar):\n",
        "  print(*sekhar)"
      ],
      "execution_count": null,
      "outputs": []
    },
    {
      "cell_type": "code",
      "metadata": {
        "colab": {
          "base_uri": "https://localhost:8080/"
        },
        "id": "qwUXrkJyXqFm",
        "outputId": "56b2d4cc-8fa6-40d2-c2b2-c0b9c800d8da"
      },
      "source": [
        "func(dhana = 1, sekhar = 2)"
      ],
      "execution_count": null,
      "outputs": [
        {
          "output_type": "stream",
          "text": [
            "dhana sekhar\n"
          ],
          "name": "stdout"
        }
      ]
    },
    {
      "cell_type": "code",
      "metadata": {
        "id": "OFrtK32FY303"
      },
      "source": [
        ""
      ],
      "execution_count": null,
      "outputs": []
    },
    {
      "cell_type": "markdown",
      "metadata": {
        "id": "ZnKtsuAkXvM4"
      },
      "source": [
        "# Packing and Unpacking"
      ]
    },
    {
      "cell_type": "code",
      "metadata": {
        "id": "rbsfmf8jXsd0"
      },
      "source": [
        "b, *c = a"
      ],
      "execution_count": null,
      "outputs": []
    },
    {
      "cell_type": "code",
      "metadata": {
        "colab": {
          "base_uri": "https://localhost:8080/"
        },
        "id": "apdkyjOfX2AR",
        "outputId": "15a26d3b-8e03-4a35-b5f5-50a9192701c1"
      },
      "source": [
        "print(b)\n",
        "print(c)"
      ],
      "execution_count": null,
      "outputs": [
        {
          "output_type": "stream",
          "text": [
            "key1\n",
            "['key2', 'key3']\n"
          ],
          "name": "stdout"
        }
      ]
    },
    {
      "cell_type": "code",
      "metadata": {
        "id": "kjFnzv17X5qw"
      },
      "source": [
        "d, *e = a.values()"
      ],
      "execution_count": null,
      "outputs": []
    },
    {
      "cell_type": "code",
      "metadata": {
        "colab": {
          "base_uri": "https://localhost:8080/"
        },
        "id": "jFhtW7XBX_HO",
        "outputId": "072fd30d-a038-4a75-8ced-03dac7d74c82"
      },
      "source": [
        "print(d)\n",
        "print(e)"
      ],
      "execution_count": null,
      "outputs": [
        {
          "output_type": "stream",
          "text": [
            "1\n",
            "[2, 3]\n"
          ],
          "name": "stdout"
        }
      ]
    },
    {
      "cell_type": "code",
      "metadata": {
        "id": "3bfgIZFJYOnq"
      },
      "source": [
        ""
      ],
      "execution_count": null,
      "outputs": []
    },
    {
      "cell_type": "markdown",
      "metadata": {
        "id": "krkWamYXZ_09"
      },
      "source": [
        "# Annotations"
      ]
    },
    {
      "cell_type": "code",
      "metadata": {
        "id": "bsI8hzp1aCWQ"
      },
      "source": [
        "def func(a: \"sekhar\", *args: \"This will accept anything\") -> \"nothing\":\n",
        "  print(\"hello\")"
      ],
      "execution_count": null,
      "outputs": []
    },
    {
      "cell_type": "code",
      "metadata": {
        "colab": {
          "base_uri": "https://localhost:8080/"
        },
        "id": "9PH8NKYAaQOP",
        "outputId": "21d2bac1-5561-4b07-e8f7-4b3f87c237ce"
      },
      "source": [
        "func('sekhar', 'dhana')"
      ],
      "execution_count": null,
      "outputs": [
        {
          "output_type": "stream",
          "text": [
            "hello\n"
          ],
          "name": "stdout"
        }
      ]
    },
    {
      "cell_type": "code",
      "metadata": {
        "colab": {
          "base_uri": "https://localhost:8080/"
        },
        "id": "WxoOteGwaWBI",
        "outputId": "75171472-d94f-44f9-bf4b-422946df5c22"
      },
      "source": [
        "help(func)"
      ],
      "execution_count": null,
      "outputs": [
        {
          "output_type": "stream",
          "text": [
            "Help on function func in module __main__:\n",
            "\n",
            "func(a:'sekhar', *args:'This will accept anything') -> 'nothing'\n",
            "\n"
          ],
          "name": "stdout"
        }
      ]
    },
    {
      "cell_type": "code",
      "metadata": {
        "colab": {
          "base_uri": "https://localhost:8080/"
        },
        "id": "mgMyHkzVaeot",
        "outputId": "a0807c70-4116-4500-82b4-9ea3a1f12c01"
      },
      "source": [
        "func.__annotations__"
      ],
      "execution_count": null,
      "outputs": [
        {
          "output_type": "execute_result",
          "data": {
            "text/plain": [
              "{'a': 'sekhar', 'args': 'This will accept anything', 'return': 'nothing'}"
            ]
          },
          "metadata": {
            "tags": []
          },
          "execution_count": 199
        }
      ]
    },
    {
      "cell_type": "code",
      "metadata": {
        "id": "IUS_YGsPajGs"
      },
      "source": [
        ""
      ],
      "execution_count": null,
      "outputs": []
    },
    {
      "cell_type": "markdown",
      "metadata": {
        "id": "e7L6BZUWar9Y"
      },
      "source": [
        "# Lambda Functions"
      ]
    },
    {
      "cell_type": "code",
      "metadata": {
        "colab": {
          "base_uri": "https://localhost:8080/"
        },
        "id": "Q5BInwIUavQK",
        "outputId": "9a609fad-05d8-419d-9cca-2fd0b85e88c1"
      },
      "source": [
        "# power \n",
        "a = lambda x: x**2\n",
        "a(4)"
      ],
      "execution_count": null,
      "outputs": [
        {
          "output_type": "execute_result",
          "data": {
            "text/plain": [
              "16"
            ]
          },
          "metadata": {
            "tags": []
          },
          "execution_count": 200
        }
      ]
    },
    {
      "cell_type": "code",
      "metadata": {
        "colab": {
          "base_uri": "https://localhost:8080/"
        },
        "id": "9MsT_4_3bRZn",
        "outputId": "b83e8d87-e6f6-4f30-8a2c-5246551f562c"
      },
      "source": [
        "lambda x: x**2 (2)"
      ],
      "execution_count": null,
      "outputs": [
        {
          "output_type": "execute_result",
          "data": {
            "text/plain": [
              "<function __main__.<lambda>>"
            ]
          },
          "metadata": {
            "tags": []
          },
          "execution_count": 204
        }
      ]
    },
    {
      "cell_type": "code",
      "metadata": {
        "id": "ciLgG6pzbcQW"
      },
      "source": [
        "f = lambda a, b, *args, y, **kwargs: (a,b, args, y, kwargs)"
      ],
      "execution_count": null,
      "outputs": []
    },
    {
      "cell_type": "code",
      "metadata": {
        "colab": {
          "base_uri": "https://localhost:8080/"
        },
        "id": "gDOXA-eabj01",
        "outputId": "fbb12ed9-1b3d-4950-eb92-dba46542b0a1"
      },
      "source": [
        "f(1,2,3,4,5,y = 6, c = 7, d = 8, e = 9)"
      ],
      "execution_count": null,
      "outputs": [
        {
          "output_type": "execute_result",
          "data": {
            "text/plain": [
              "(1, 2, (3, 4, 5), 6, {'c': 7, 'd': 8, 'e': 9})"
            ]
          },
          "metadata": {
            "tags": []
          },
          "execution_count": 207
        }
      ]
    },
    {
      "cell_type": "code",
      "metadata": {
        "id": "BA5-8iRbbvRL"
      },
      "source": [
        "l1 = [lambda x,y: x+y, lambda x,y: x*y]"
      ],
      "execution_count": null,
      "outputs": []
    },
    {
      "cell_type": "code",
      "metadata": {
        "colab": {
          "base_uri": "https://localhost:8080/"
        },
        "id": "T7xxi5pncLnS",
        "outputId": "a9389a85-ecc7-4e57-c1dc-4c3f70215809"
      },
      "source": [
        "l1[0](2,3)"
      ],
      "execution_count": null,
      "outputs": [
        {
          "output_type": "execute_result",
          "data": {
            "text/plain": [
              "5"
            ]
          },
          "metadata": {
            "tags": []
          },
          "execution_count": 209
        }
      ]
    },
    {
      "cell_type": "code",
      "metadata": {
        "colab": {
          "base_uri": "https://localhost:8080/"
        },
        "id": "J3SS4VMocOkh",
        "outputId": "f4438aac-51b9-4bd6-d67d-84c7c34076d3"
      },
      "source": [
        "l1[1](2,3)"
      ],
      "execution_count": null,
      "outputs": [
        {
          "output_type": "execute_result",
          "data": {
            "text/plain": [
              "6"
            ]
          },
          "metadata": {
            "tags": []
          },
          "execution_count": 211
        }
      ]
    },
    {
      "cell_type": "code",
      "metadata": {
        "id": "uAG1VtTJcRux"
      },
      "source": [
        ""
      ],
      "execution_count": null,
      "outputs": []
    },
    {
      "cell_type": "markdown",
      "metadata": {
        "id": "26oDfEtBcaLy"
      },
      "source": [
        "# Lambda Sorting"
      ]
    },
    {
      "cell_type": "code",
      "metadata": {
        "id": "mOcbsZx1cdBA"
      },
      "source": [
        "l = ['a','B', 'c', 'D']"
      ],
      "execution_count": null,
      "outputs": []
    },
    {
      "cell_type": "code",
      "metadata": {
        "colab": {
          "base_uri": "https://localhost:8080/"
        },
        "id": "8nZTK6j7cfRg",
        "outputId": "b2e9f7ad-aea6-4002-cf0f-6222586d595c"
      },
      "source": [
        "sorted(l)"
      ],
      "execution_count": null,
      "outputs": [
        {
          "output_type": "execute_result",
          "data": {
            "text/plain": [
              "['B', 'D', 'a', 'c']"
            ]
          },
          "metadata": {
            "tags": []
          },
          "execution_count": 213
        }
      ]
    },
    {
      "cell_type": "code",
      "metadata": {
        "colab": {
          "base_uri": "https://localhost:8080/"
        },
        "id": "Ps5LQE21cgmg",
        "outputId": "ad4b6c7b-4819-4467-8a85-5050c4601883"
      },
      "source": [
        "help(sorted)"
      ],
      "execution_count": null,
      "outputs": [
        {
          "output_type": "stream",
          "text": [
            "Help on built-in function sorted in module builtins:\n",
            "\n",
            "sorted(iterable, /, *, key=None, reverse=False)\n",
            "    Return a new list containing all items from the iterable in ascending order.\n",
            "    \n",
            "    A custom key function can be supplied to customize the sort order, and the\n",
            "    reverse flag can be set to request the result in descending order.\n",
            "\n"
          ],
          "name": "stdout"
        }
      ]
    },
    {
      "cell_type": "code",
      "metadata": {
        "colab": {
          "base_uri": "https://localhost:8080/"
        },
        "id": "1JDpCd3lcjsp",
        "outputId": "1c7b9238-a2ca-41a8-8b35-59431fefa864"
      },
      "source": [
        "sorted(l, key = lambda x: x.lower())"
      ],
      "execution_count": null,
      "outputs": [
        {
          "output_type": "execute_result",
          "data": {
            "text/plain": [
              "['a', 'B', 'c', 'D']"
            ]
          },
          "metadata": {
            "tags": []
          },
          "execution_count": 217
        }
      ]
    },
    {
      "cell_type": "code",
      "metadata": {
        "id": "-ENLVEaZcx7u"
      },
      "source": [
        "d = {'abc': 300, 'ghi':200, 'def': 100}"
      ],
      "execution_count": null,
      "outputs": []
    },
    {
      "cell_type": "code",
      "metadata": {
        "colab": {
          "base_uri": "https://localhost:8080/"
        },
        "id": "FKHyCMHfdRks",
        "outputId": "1c6db397-938b-4603-e536-4ce9b2741f50"
      },
      "source": [
        "sorted(d)"
      ],
      "execution_count": null,
      "outputs": [
        {
          "output_type": "execute_result",
          "data": {
            "text/plain": [
              "['abc', 'def', 'ghi']"
            ]
          },
          "metadata": {
            "tags": []
          },
          "execution_count": 220
        }
      ]
    },
    {
      "cell_type": "code",
      "metadata": {
        "colab": {
          "base_uri": "https://localhost:8080/"
        },
        "id": "t2eiwosFdSYN",
        "outputId": "02402945-759a-4cb6-a820-f5b1e39e1b1a"
      },
      "source": [
        "sorted(d, key = lambda v: d[v])"
      ],
      "execution_count": null,
      "outputs": [
        {
          "output_type": "execute_result",
          "data": {
            "text/plain": [
              "['def', 'ghi', 'abc']"
            ]
          },
          "metadata": {
            "tags": []
          },
          "execution_count": 221
        }
      ]
    },
    {
      "cell_type": "code",
      "metadata": {
        "id": "RW2w7CSpdZ-r"
      },
      "source": [
        "l = ['Cheese', 'Idle', 'Palin', 'Chapman', 'Gilliam', 'Jones']"
      ],
      "execution_count": null,
      "outputs": []
    },
    {
      "cell_type": "code",
      "metadata": {
        "colab": {
          "base_uri": "https://localhost:8080/"
        },
        "id": "eMRw4gcFdqIa",
        "outputId": "9069ade3-99a4-4ea2-f96d-6dc5e2293306"
      },
      "source": [
        "# Sorted with starting letters of the string\n",
        "sorted(l)"
      ],
      "execution_count": null,
      "outputs": [
        {
          "output_type": "execute_result",
          "data": {
            "text/plain": [
              "['Chapman', 'Cheese', 'Gilliam', 'Idle', 'Jones', 'Palin']"
            ]
          },
          "metadata": {
            "tags": []
          },
          "execution_count": 223
        }
      ]
    },
    {
      "cell_type": "code",
      "metadata": {
        "colab": {
          "base_uri": "https://localhost:8080/"
        },
        "id": "QVS6YXFDdykp",
        "outputId": "5adbf064-048d-437c-9cd3-6bca5407e05f"
      },
      "source": [
        "# Sorted with last for first in a string\n",
        "sorted(l, key = lambda x: x[-1])"
      ],
      "execution_count": null,
      "outputs": [
        {
          "output_type": "execute_result",
          "data": {
            "text/plain": [
              "['Cheese', 'Idle', 'Gilliam', 'Palin', 'Chapman', 'Jones']"
            ]
          },
          "metadata": {
            "tags": []
          },
          "execution_count": 225
        }
      ]
    },
    {
      "cell_type": "code",
      "metadata": {
        "id": "JtB5hhSbd5zZ"
      },
      "source": [
        ""
      ],
      "execution_count": null,
      "outputs": []
    },
    {
      "cell_type": "markdown",
      "metadata": {
        "id": "RYfCdjgQeRVM"
      },
      "source": [
        "# Function introspection"
      ]
    },
    {
      "cell_type": "code",
      "metadata": {
        "id": "KZvnyFCzeT5n"
      },
      "source": [
        "class Tm:\n",
        "  def my_func():\n",
        "    pass"
      ],
      "execution_count": null,
      "outputs": []
    },
    {
      "cell_type": "code",
      "metadata": {
        "id": "J6UNHZAjeVxH"
      },
      "source": [
        "from inspect import ismethod, isfunction"
      ],
      "execution_count": null,
      "outputs": []
    },
    {
      "cell_type": "code",
      "metadata": {
        "colab": {
          "base_uri": "https://localhost:8080/"
        },
        "id": "cMZ6y2aEeYpH",
        "outputId": "c02a2c73-6d5c-4808-95ad-3f6831bce64d"
      },
      "source": [
        "print(ismethod(Tm.my_func))\n"
      ],
      "execution_count": null,
      "outputs": [
        {
          "output_type": "stream",
          "text": [
            "False\n"
          ],
          "name": "stdout"
        }
      ]
    },
    {
      "cell_type": "code",
      "metadata": {
        "colab": {
          "base_uri": "https://localhost:8080/"
        },
        "id": "Wn4qxFVMerQW",
        "outputId": "add79a32-d12b-4b30-c71c-74dc8cfd9092"
      },
      "source": [
        "print(isfunction(Tm.my_func))"
      ],
      "execution_count": null,
      "outputs": [
        {
          "output_type": "stream",
          "text": [
            "True\n"
          ],
          "name": "stdout"
        }
      ]
    },
    {
      "cell_type": "code",
      "metadata": {
        "colab": {
          "base_uri": "https://localhost:8080/"
        },
        "id": "Muqe8hbAe202",
        "outputId": "115bee74-2ac9-4f34-c0fe-3ea79ac7f0a2"
      },
      "source": [
        "my_tm_object = Tm()\n",
        "print(ismethod(my_tm_object.my_func))\n",
        "print(isfunction(my_tm_object.my_func))"
      ],
      "execution_count": null,
      "outputs": [
        {
          "output_type": "stream",
          "text": [
            "True\n",
            "False\n"
          ],
          "name": "stdout"
        }
      ]
    },
    {
      "cell_type": "code",
      "metadata": {
        "id": "aUCzCeBtfKE0"
      },
      "source": [
        ""
      ],
      "execution_count": null,
      "outputs": []
    },
    {
      "cell_type": "markdown",
      "metadata": {
        "id": "YyVDmV_2fRUT"
      },
      "source": [
        "# Map"
      ]
    },
    {
      "cell_type": "code",
      "metadata": {
        "id": "rTy3FslhfTRj"
      },
      "source": [
        "map(function, *iterables) -> \"generator\""
      ],
      "execution_count": null,
      "outputs": []
    },
    {
      "cell_type": "code",
      "metadata": {
        "colab": {
          "base_uri": "https://localhost:8080/"
        },
        "id": "lKkeBAuqfiU4",
        "outputId": "ae5851ca-625d-42c5-cc22-ce78cad41dc0"
      },
      "source": [
        "l1 = [1,2,3]\n",
        "l2 = [10,20,30]\n",
        "list(map(lambda x,y: x+y, range(1,4),l2))"
      ],
      "execution_count": null,
      "outputs": [
        {
          "output_type": "execute_result",
          "data": {
            "text/plain": [
              "[11, 22, 33]"
            ]
          },
          "metadata": {
            "tags": []
          },
          "execution_count": 243
        }
      ]
    },
    {
      "cell_type": "code",
      "metadata": {
        "id": "-MdkN8HohApd"
      },
      "source": [
        ""
      ],
      "execution_count": null,
      "outputs": []
    },
    {
      "cell_type": "markdown",
      "metadata": {
        "id": "6HoiG74Xh-Oe"
      },
      "source": [
        "# Filter"
      ]
    },
    {
      "cell_type": "code",
      "metadata": {
        "id": "Z62qB8OmiArS"
      },
      "source": [
        "filter(function, *iterables) -> \"generator\""
      ],
      "execution_count": null,
      "outputs": []
    },
    {
      "cell_type": "code",
      "metadata": {
        "colab": {
          "base_uri": "https://localhost:8080/"
        },
        "id": "bSxZbhEUiGoa",
        "outputId": "798e9819-26df-493c-e0a7-9ac7ab6df69d"
      },
      "source": [
        "list(filter(lambda x: x%2==0 , range(10)))"
      ],
      "execution_count": null,
      "outputs": [
        {
          "output_type": "execute_result",
          "data": {
            "text/plain": [
              "[0, 2, 4, 6, 8]"
            ]
          },
          "metadata": {
            "tags": []
          },
          "execution_count": 250
        }
      ]
    },
    {
      "cell_type": "code",
      "metadata": {
        "id": "odCYDHqDicHx"
      },
      "source": [
        ""
      ],
      "execution_count": null,
      "outputs": []
    },
    {
      "cell_type": "markdown",
      "metadata": {
        "id": "j9EYw6Pdis5t"
      },
      "source": [
        "# Zip"
      ]
    },
    {
      "cell_type": "code",
      "metadata": {
        "colab": {
          "base_uri": "https://localhost:8080/"
        },
        "id": "rQZQNwlLiujM",
        "outputId": "8ec9b75e-9f78-49ee-977c-a69e7f514da8"
      },
      "source": [
        "l1 = [1,2,3]\n",
        "l2 = [10,20,30]\n",
        "list(zip(l1,l2))"
      ],
      "execution_count": null,
      "outputs": [
        {
          "output_type": "execute_result",
          "data": {
            "text/plain": [
              "[(1, 10), (2, 20), (3, 30)]"
            ]
          },
          "metadata": {
            "tags": []
          },
          "execution_count": 251
        }
      ]
    },
    {
      "cell_type": "code",
      "metadata": {
        "colab": {
          "base_uri": "https://localhost:8080/"
        },
        "id": "5u7Ed3GVizNp",
        "outputId": "98f09301-8d42-47c6-bd07-e4c18bc8252e"
      },
      "source": [
        "d1 = {'key1':1, 'key2':2, 'key3':3}\n",
        "d2 = {'key4':4, 'key5':5, 'key6':6}\n",
        "list(zip(d1,d2))"
      ],
      "execution_count": null,
      "outputs": [
        {
          "output_type": "execute_result",
          "data": {
            "text/plain": [
              "[('key1', 'key4'), ('key2', 'key5'), ('key3', 'key6')]"
            ]
          },
          "metadata": {
            "tags": []
          },
          "execution_count": 252
        }
      ]
    },
    {
      "cell_type": "code",
      "metadata": {
        "colab": {
          "base_uri": "https://localhost:8080/"
        },
        "id": "KgcAFbwli5Xl",
        "outputId": "f0d0ee2e-e739-4826-be3a-f065246ce683"
      },
      "source": [
        "name = \"sekhar\"\n",
        "list(zip(l1,l2, name))"
      ],
      "execution_count": null,
      "outputs": [
        {
          "output_type": "execute_result",
          "data": {
            "text/plain": [
              "[(1, 10, 's'), (2, 20, 'e'), (3, 30, 'k')]"
            ]
          },
          "metadata": {
            "tags": []
          },
          "execution_count": 253
        }
      ]
    },
    {
      "cell_type": "code",
      "metadata": {
        "id": "8gt0Cv0Xi-zF"
      },
      "source": [
        ""
      ],
      "execution_count": null,
      "outputs": []
    },
    {
      "cell_type": "markdown",
      "metadata": {
        "id": "WvD5gp-4jE5R"
      },
      "source": [
        "# List Comprehensions"
      ]
    },
    {
      "cell_type": "code",
      "metadata": {
        "id": "5dSHSJewjIDC"
      },
      "source": [
        "[<expression> for <variable> in <iterator> if <expression>]"
      ],
      "execution_count": null,
      "outputs": []
    },
    {
      "cell_type": "code",
      "metadata": {
        "colab": {
          "base_uri": "https://localhost:8080/"
        },
        "id": "lFUKCX32jKO9",
        "outputId": "015e00d3-85ac-41c4-b0c1-590203a90bc2"
      },
      "source": [
        "[i+j for i, j in zip(l1,l2)]"
      ],
      "execution_count": null,
      "outputs": [
        {
          "output_type": "execute_result",
          "data": {
            "text/plain": [
              "[11, 22, 33]"
            ]
          },
          "metadata": {
            "tags": []
          },
          "execution_count": 255
        }
      ]
    },
    {
      "cell_type": "code",
      "metadata": {
        "colab": {
          "base_uri": "https://localhost:8080/"
        },
        "id": "pFLIWxMXjaEI",
        "outputId": "1d819c84-8e50-467d-edc5-6e9430b0d2e3"
      },
      "source": [
        "[i for i in range(10) if i%2 == 0]"
      ],
      "execution_count": null,
      "outputs": [
        {
          "output_type": "execute_result",
          "data": {
            "text/plain": [
              "[0, 2, 4, 6, 8]"
            ]
          },
          "metadata": {
            "tags": []
          },
          "execution_count": 257
        }
      ]
    },
    {
      "cell_type": "code",
      "metadata": {
        "colab": {
          "base_uri": "https://localhost:8080/"
        },
        "id": "Yv-PE7t8jlrP",
        "outputId": "827b0ec1-1fdf-4125-81fb-6150570c7b32"
      },
      "source": [
        "list(filter(lambda x: x<25 , map(lambda x : x**2, range(10))))"
      ],
      "execution_count": null,
      "outputs": [
        {
          "output_type": "execute_result",
          "data": {
            "text/plain": [
              "[0, 1, 4, 9, 16]"
            ]
          },
          "metadata": {
            "tags": []
          },
          "execution_count": 259
        }
      ]
    },
    {
      "cell_type": "code",
      "metadata": {
        "id": "DjzB8HLjkHpO"
      },
      "source": [
        ""
      ],
      "execution_count": null,
      "outputs": []
    },
    {
      "cell_type": "markdown",
      "metadata": {
        "id": "YdXqjrU__Ze7"
      },
      "source": [
        "# Reduce"
      ]
    },
    {
      "cell_type": "code",
      "metadata": {
        "id": "S7owEMiw_bz4"
      },
      "source": [
        "reduce( function, iterable)"
      ],
      "execution_count": null,
      "outputs": []
    },
    {
      "cell_type": "code",
      "metadata": {
        "id": "oOSWiVFp_eOn"
      },
      "source": [
        "from functools import reduce"
      ],
      "execution_count": null,
      "outputs": []
    },
    {
      "cell_type": "code",
      "metadata": {
        "colab": {
          "base_uri": "https://localhost:8080/"
        },
        "id": "S86iwXLy_hrb",
        "outputId": "5ed8704e-64b7-43a0-d169-1b393bcd2b12"
      },
      "source": [
        "l1 = [5,8,6,10,9]\n",
        "reduce(lambda x, y : x*y, l1)"
      ],
      "execution_count": null,
      "outputs": [
        {
          "output_type": "execute_result",
          "data": {
            "text/plain": [
              "21600"
            ]
          },
          "metadata": {
            "tags": []
          },
          "execution_count": 6
        }
      ]
    },
    {
      "cell_type": "code",
      "metadata": {
        "id": "Uynr7C9AABDq"
      },
      "source": [
        ""
      ],
      "execution_count": null,
      "outputs": []
    },
    {
      "cell_type": "markdown",
      "metadata": {
        "id": "wLeinD1QALBg"
      },
      "source": [
        "# Partial Functions"
      ]
    },
    {
      "cell_type": "code",
      "metadata": {
        "id": "6eXyvhm6AN7_"
      },
      "source": [
        "from functools import partial"
      ],
      "execution_count": null,
      "outputs": []
    },
    {
      "cell_type": "code",
      "metadata": {
        "id": "-o5drlrdASvu"
      },
      "source": [
        "def my_func(a,b,c):\n",
        "  print(f'a = {a}, b = {b}, c = {c}')"
      ],
      "execution_count": null,
      "outputs": []
    },
    {
      "cell_type": "code",
      "metadata": {
        "id": "Rza01iSMBV_j"
      },
      "source": [
        "my_partial  = partial(my_func, 10)"
      ],
      "execution_count": null,
      "outputs": []
    },
    {
      "cell_type": "code",
      "metadata": {
        "colab": {
          "base_uri": "https://localhost:8080/"
        },
        "id": "Ns5_2RveBmlK",
        "outputId": "5b405759-8463-4878-a969-b88bdf375eb4"
      },
      "source": [
        "my_partial(20,30)"
      ],
      "execution_count": null,
      "outputs": [
        {
          "output_type": "stream",
          "text": [
            "a = 10, b = 20, c = 30\n"
          ],
          "name": "stdout"
        }
      ]
    },
    {
      "cell_type": "code",
      "metadata": {
        "id": "AAZ_Yj-OBp6M"
      },
      "source": [
        "my_func = partial(my_func, 20)"
      ],
      "execution_count": null,
      "outputs": []
    },
    {
      "cell_type": "code",
      "metadata": {
        "colab": {
          "base_uri": "https://localhost:8080/"
        },
        "id": "hGbYPSfzB53e",
        "outputId": "b6da3e3e-46d5-4d8d-8160-a3a82eb113a3"
      },
      "source": [
        "my_func(10,30)"
      ],
      "execution_count": null,
      "outputs": [
        {
          "output_type": "stream",
          "text": [
            "a = 20, b = 10, c = 30\n"
          ],
          "name": "stdout"
        }
      ]
    },
    {
      "cell_type": "code",
      "metadata": {
        "id": "fRzfEG5wCx4r"
      },
      "source": [
        "def square(base, exponent):\n",
        "  return base**exponent\n",
        "def cube(base, exponent):\n",
        "  return base**exponent"
      ],
      "execution_count": null,
      "outputs": []
    },
    {
      "cell_type": "code",
      "metadata": {
        "id": "YpU05sIIDD6o"
      },
      "source": [
        "square = partial(square, exponent = 2)\n",
        "cube = partial(cube, exponent = 3)"
      ],
      "execution_count": null,
      "outputs": []
    },
    {
      "cell_type": "code",
      "metadata": {
        "colab": {
          "base_uri": "https://localhost:8080/"
        },
        "id": "zGvaVsMTDWHZ",
        "outputId": "24ec4a39-40be-4987-f9bf-2deec709ba99"
      },
      "source": [
        "square(4)"
      ],
      "execution_count": null,
      "outputs": [
        {
          "output_type": "execute_result",
          "data": {
            "text/plain": [
              "16"
            ]
          },
          "metadata": {
            "tags": []
          },
          "execution_count": 33
        }
      ]
    },
    {
      "cell_type": "code",
      "metadata": {
        "colab": {
          "base_uri": "https://localhost:8080/"
        },
        "id": "tm_t6rjwDY3a",
        "outputId": "6e1afaa4-cbaf-4d6e-cd2a-695ce092c803"
      },
      "source": [
        "cube(3)"
      ],
      "execution_count": null,
      "outputs": [
        {
          "output_type": "execute_result",
          "data": {
            "text/plain": [
              "27"
            ]
          },
          "metadata": {
            "tags": []
          },
          "execution_count": 34
        }
      ]
    },
    {
      "cell_type": "code",
      "metadata": {
        "colab": {
          "base_uri": "https://localhost:8080/"
        },
        "id": "8dUMN-cyDa5I",
        "outputId": "c27a1e04-f72e-4264-823e-816d6176ffad"
      },
      "source": [
        "cube(base = 2, exponent = 3)"
      ],
      "execution_count": null,
      "outputs": [
        {
          "output_type": "execute_result",
          "data": {
            "text/plain": [
              "8"
            ]
          },
          "metadata": {
            "tags": []
          },
          "execution_count": 35
        }
      ]
    },
    {
      "cell_type": "code",
      "metadata": {
        "id": "O3cR2cX6DqAe"
      },
      "source": [
        ""
      ],
      "execution_count": null,
      "outputs": []
    },
    {
      "cell_type": "markdown",
      "metadata": {
        "id": "fr9BFqLnQe-t"
      },
      "source": [
        "# Non Local"
      ]
    },
    {
      "cell_type": "code",
      "metadata": {
        "colab": {
          "base_uri": "https://localhost:8080/"
        },
        "id": "h4ZCw0jcQhQd",
        "outputId": "a6709cad-a732-4e94-9e17-c9b69f179922"
      },
      "source": [
        "def tmp():\n",
        "  a = 10\n",
        "  def innerfunc():\n",
        "    nonlocal a\n",
        "    a = 'python'\n",
        "  print(a)\n",
        "  innerfunc()\n",
        "  print(a)\n",
        "tmp()"
      ],
      "execution_count": null,
      "outputs": [
        {
          "output_type": "stream",
          "text": [
            "10\n",
            "python\n"
          ],
          "name": "stdout"
        }
      ]
    },
    {
      "cell_type": "code",
      "metadata": {
        "colab": {
          "base_uri": "https://localhost:8080/"
        },
        "id": "22j9ldlOQjtt",
        "outputId": "a5894240-f664-4005-97e7-686dd4098a44"
      },
      "source": [
        "def tmp():\n",
        "  a = 10\n",
        "  def innerfunc():\n",
        "    nonlocal a\n",
        "    a = 'python'\n",
        "    def inner1():\n",
        "      nonlocal a\n",
        "      a = 'programming'\n",
        "    print(a)\n",
        "    inner1()\n",
        "  print(a)\n",
        "  innerfunc()\n",
        "  print(a)\n",
        "tmp()"
      ],
      "execution_count": null,
      "outputs": [
        {
          "output_type": "stream",
          "text": [
            "10\n",
            "python\n",
            "programming\n"
          ],
          "name": "stdout"
        }
      ]
    },
    {
      "cell_type": "code",
      "metadata": {
        "colab": {
          "base_uri": "https://localhost:8080/",
          "height": 129
        },
        "id": "gVm017u9Q8ip",
        "outputId": "9563ef4d-b711-4dd1-bbb4-7a2306bb1382"
      },
      "source": [
        "# Here we cannt assign the nonlocal to global scope\n",
        "a = 10\n",
        "def tmp():\n",
        "  nonlocal a\n",
        "  a = 20\n",
        "  def innerfunc():\n",
        "    nonlocal a\n",
        "    a = 'python'\n",
        "    def inner1():\n",
        "      nonlocal a\n",
        "      a = 'programming'\n",
        "    print(a)\n",
        "    inner1()\n",
        "  print(a)\n",
        "  innerfunc()\n",
        "  print(a)\n",
        "print(a)\n",
        "tmp()\n",
        "print(a)"
      ],
      "execution_count": null,
      "outputs": [
        {
          "output_type": "error",
          "ename": "SyntaxError",
          "evalue": "ignored",
          "traceback": [
            "\u001b[0;36m  File \u001b[0;32m\"<ipython-input-38-cbf22cb06d6b>\"\u001b[0;36m, line \u001b[0;32m4\u001b[0m\n\u001b[0;31m    nonlocal a\u001b[0m\n\u001b[0m    ^\u001b[0m\n\u001b[0;31mSyntaxError\u001b[0m\u001b[0;31m:\u001b[0m no binding for nonlocal 'a' found\n"
          ]
        }
      ]
    },
    {
      "cell_type": "code",
      "metadata": {
        "colab": {
          "base_uri": "https://localhost:8080/",
          "height": 129
        },
        "id": "DhNXKd1nRBSn",
        "outputId": "cb9db8c8-b827-4f02-9338-ae5099685c08"
      },
      "source": [
        "# Here we cannt assign the nonlocal inside innerfunc() to global scope\n",
        "a = 10\n",
        "def tmp():\n",
        "  global a\n",
        "  a = 20\n",
        "  def innerfunc():\n",
        "    nonlocal a\n",
        "    a = 'python'\n",
        "    def inner1():\n",
        "      nonlocal a\n",
        "      a = 'programming'\n",
        "    print(a)\n",
        "    inner1()\n",
        "  print(a)\n",
        "  innerfunc()\n",
        "  print(a)\n",
        "print(a)\n",
        "tmp()\n",
        "print(a)"
      ],
      "execution_count": null,
      "outputs": [
        {
          "output_type": "error",
          "ename": "SyntaxError",
          "evalue": "ignored",
          "traceback": [
            "\u001b[0;36m  File \u001b[0;32m\"<ipython-input-39-a39644865c7e>\"\u001b[0;36m, line \u001b[0;32m7\u001b[0m\n\u001b[0;31m    nonlocal a\u001b[0m\n\u001b[0m    ^\u001b[0m\n\u001b[0;31mSyntaxError\u001b[0m\u001b[0;31m:\u001b[0m no binding for nonlocal 'a' found\n"
          ]
        }
      ]
    },
    {
      "cell_type": "code",
      "metadata": {
        "colab": {
          "base_uri": "https://localhost:8080/"
        },
        "id": "PUySemM1RHWo",
        "outputId": "ca2fa498-138d-4b48-83c4-03770f2257a8"
      },
      "source": [
        "a = 10\n",
        "def tmp():\n",
        "  global a\n",
        "  a = 20\n",
        "  def innerfunc():\n",
        "    # nonlocal a\n",
        "    a = 'python'\n",
        "    def inner1():\n",
        "      nonlocal a\n",
        "      a = 'programming'\n",
        "    print('inside inner func ',a)\n",
        "    inner1()\n",
        "  print('inside temp ',a)\n",
        "  innerfunc()\n",
        "  print('after innerfunc called',a)\n",
        "print('outside of the temp func',a)\n",
        "tmp()\n",
        "print('after temp called',a)"
      ],
      "execution_count": null,
      "outputs": [
        {
          "output_type": "stream",
          "text": [
            "outside of the temp func 10\n",
            "inside temp  20\n",
            "inside inner func  python\n",
            "after innerfunc called 20\n",
            "after temp called 20\n"
          ],
          "name": "stdout"
        }
      ]
    },
    {
      "cell_type": "code",
      "metadata": {
        "id": "wvOqFIZgWe2W"
      },
      "source": [
        ""
      ],
      "execution_count": null,
      "outputs": []
    },
    {
      "cell_type": "markdown",
      "metadata": {
        "id": "37HtYf-bC77b"
      },
      "source": [
        "# Closures"
      ]
    },
    {
      "cell_type": "code",
      "metadata": {
        "id": "pXyMmbGAC93G"
      },
      "source": [
        "def outer():\n",
        "  a = \"Python\"\n",
        "  def inner():\n",
        "    print(f'{a} rockzz....!!!!!!!!!')\n",
        "  return inner"
      ],
      "execution_count": null,
      "outputs": []
    },
    {
      "cell_type": "code",
      "metadata": {
        "id": "PHS9u3SwDOb7"
      },
      "source": [
        "fn = outer()"
      ],
      "execution_count": null,
      "outputs": []
    },
    {
      "cell_type": "code",
      "metadata": {
        "colab": {
          "base_uri": "https://localhost:8080/"
        },
        "id": "-xRpqzpGDVHL",
        "outputId": "adbe7328-ac82-4522-8355-719623b6327c"
      },
      "source": [
        "fn()"
      ],
      "execution_count": null,
      "outputs": [
        {
          "output_type": "stream",
          "text": [
            "Python rockzz....!!!!!!!!!\n"
          ],
          "name": "stdout"
        }
      ]
    },
    {
      "cell_type": "code",
      "metadata": {
        "colab": {
          "base_uri": "https://localhost:8080/"
        },
        "id": "JsvGPB6NDWQK",
        "outputId": "b12b22e0-6724-4001-fdfd-4e0300827e48"
      },
      "source": [
        "fn.__code__.co_freevars"
      ],
      "execution_count": null,
      "outputs": [
        {
          "output_type": "execute_result",
          "data": {
            "text/plain": [
              "('a',)"
            ]
          },
          "metadata": {
            "tags": []
          },
          "execution_count": 5
        }
      ]
    },
    {
      "cell_type": "code",
      "metadata": {
        "colab": {
          "base_uri": "https://localhost:8080/"
        },
        "id": "ExnrtmrdDhmx",
        "outputId": "0ebe9e86-e4b5-4774-837b-0ea8dfbb5691"
      },
      "source": [
        "fn.__closure__"
      ],
      "execution_count": null,
      "outputs": [
        {
          "output_type": "execute_result",
          "data": {
            "text/plain": [
              "(<cell at 0x7f82df11b948: str object at 0x7f82f8d8fc38>,)"
            ]
          },
          "metadata": {
            "tags": []
          },
          "execution_count": 6
        }
      ]
    },
    {
      "cell_type": "code",
      "metadata": {
        "id": "g892AxkVDrmT"
      },
      "source": [
        "def outer():\n",
        "  count = 0\n",
        "  def inner():\n",
        "    nonlocal count\n",
        "    count += 1\n",
        "    return count\n",
        "  return inner"
      ],
      "execution_count": null,
      "outputs": []
    },
    {
      "cell_type": "code",
      "metadata": {
        "id": "A1PyJBg4H5iy"
      },
      "source": [
        "fn = outer()"
      ],
      "execution_count": null,
      "outputs": []
    },
    {
      "cell_type": "code",
      "metadata": {
        "colab": {
          "base_uri": "https://localhost:8080/"
        },
        "id": "QuLGb5lVH7e6",
        "outputId": "bf12ed1f-001d-4b8d-f88b-8e38ef47a6a7"
      },
      "source": [
        "fn()"
      ],
      "execution_count": null,
      "outputs": [
        {
          "output_type": "execute_result",
          "data": {
            "text/plain": [
              "1"
            ]
          },
          "metadata": {
            "tags": []
          },
          "execution_count": 26
        }
      ]
    },
    {
      "cell_type": "code",
      "metadata": {
        "colab": {
          "base_uri": "https://localhost:8080/"
        },
        "id": "Tt4W7355IYxr",
        "outputId": "6ae586c3-c8fb-4b57-8cc8-43adc7ebce34"
      },
      "source": [
        "fn()"
      ],
      "execution_count": null,
      "outputs": [
        {
          "output_type": "execute_result",
          "data": {
            "text/plain": [
              "2"
            ]
          },
          "metadata": {
            "tags": []
          },
          "execution_count": 29
        }
      ]
    },
    {
      "cell_type": "code",
      "metadata": {
        "id": "m3BlGCwcH8Y5"
      },
      "source": [
        "fn1 = outer()"
      ],
      "execution_count": null,
      "outputs": []
    },
    {
      "cell_type": "code",
      "metadata": {
        "colab": {
          "base_uri": "https://localhost:8080/"
        },
        "id": "H2JpTml9IBHW",
        "outputId": "f0ee885b-aa4d-4f55-9470-b700c118ef16"
      },
      "source": [
        "fn1()"
      ],
      "execution_count": null,
      "outputs": [
        {
          "output_type": "execute_result",
          "data": {
            "text/plain": [
              "1"
            ]
          },
          "metadata": {
            "tags": []
          },
          "execution_count": 28
        }
      ]
    },
    {
      "cell_type": "code",
      "metadata": {
        "colab": {
          "base_uri": "https://localhost:8080/"
        },
        "id": "dJGUsVXvII5v",
        "outputId": "22dd554d-aebd-45f7-bf08-01f9dd187479"
      },
      "source": [
        "print(fn.__closure__)\n",
        "print(fn1.__closure__)"
      ],
      "execution_count": null,
      "outputs": [
        {
          "output_type": "stream",
          "text": [
            "(<cell at 0x7f82df11ba08: int object at 0xa68ae0>,)\n",
            "(<cell at 0x7f82df11b978: int object at 0xa68ac0>,)\n"
          ],
          "name": "stdout"
        }
      ]
    },
    {
      "cell_type": "code",
      "metadata": {
        "id": "0iXArsplI9fk"
      },
      "source": [
        "def outer(fn):\n",
        "  count = 0\n",
        "  def inner(*args, **kwargs):\n",
        "    nonlocal count\n",
        "    count += 1\n",
        "    print(f'{fn.__name__} was called {count} times')\n",
        "    return fn(*args, **kwargs)\n",
        "  return inner\n",
        "  "
      ],
      "execution_count": null,
      "outputs": []
    },
    {
      "cell_type": "code",
      "metadata": {
        "id": "1364inlPLc9-"
      },
      "source": [
        "def add(a,b):\n",
        "  return a+b\n",
        "\n",
        "def mul(a,b):\n",
        "  return a*b"
      ],
      "execution_count": null,
      "outputs": []
    },
    {
      "cell_type": "code",
      "metadata": {
        "id": "ytZ3fH-4Lj9O"
      },
      "source": [
        "add = outer(add)"
      ],
      "execution_count": null,
      "outputs": []
    },
    {
      "cell_type": "code",
      "metadata": {
        "colab": {
          "base_uri": "https://localhost:8080/"
        },
        "id": "hNGdEEAvLnLv",
        "outputId": "0292d730-c1ce-4c17-cadc-3c51582228bb"
      },
      "source": [
        "add(1,2)"
      ],
      "execution_count": null,
      "outputs": [
        {
          "output_type": "stream",
          "text": [
            "add was called 1 times\n"
          ],
          "name": "stdout"
        },
        {
          "output_type": "execute_result",
          "data": {
            "text/plain": [
              "3"
            ]
          },
          "metadata": {
            "tags": []
          },
          "execution_count": 38
        }
      ]
    },
    {
      "cell_type": "code",
      "metadata": {
        "colab": {
          "base_uri": "https://localhost:8080/"
        },
        "id": "4KXBT4leLyoj",
        "outputId": "a3b0458f-9cde-4200-e55a-17079fa61f83"
      },
      "source": [
        "add(3,4)"
      ],
      "execution_count": null,
      "outputs": [
        {
          "output_type": "stream",
          "text": [
            "add was called 2 times\n"
          ],
          "name": "stdout"
        },
        {
          "output_type": "execute_result",
          "data": {
            "text/plain": [
              "7"
            ]
          },
          "metadata": {
            "tags": []
          },
          "execution_count": 39
        }
      ]
    },
    {
      "cell_type": "code",
      "metadata": {
        "colab": {
          "base_uri": "https://localhost:8080/"
        },
        "id": "7gUaPY2bL00U",
        "outputId": "8a455aa9-72e2-46d5-85a7-5a29cff9b59a"
      },
      "source": [
        "mul = outer(mul)\n",
        "mul(2,2)"
      ],
      "execution_count": null,
      "outputs": [
        {
          "output_type": "stream",
          "text": [
            "mul was called 1 times\n"
          ],
          "name": "stdout"
        },
        {
          "output_type": "execute_result",
          "data": {
            "text/plain": [
              "4"
            ]
          },
          "metadata": {
            "tags": []
          },
          "execution_count": 41
        }
      ]
    },
    {
      "cell_type": "code",
      "metadata": {
        "colab": {
          "base_uri": "https://localhost:8080/"
        },
        "id": "BkyxBCVgL2gU",
        "outputId": "971f231a-2613-4e15-df23-d8465ad40782"
      },
      "source": [
        "mul(4,4)"
      ],
      "execution_count": null,
      "outputs": [
        {
          "output_type": "stream",
          "text": [
            "mul was called 2 times\n"
          ],
          "name": "stdout"
        },
        {
          "output_type": "execute_result",
          "data": {
            "text/plain": [
              "16"
            ]
          },
          "metadata": {
            "tags": []
          },
          "execution_count": 42
        }
      ]
    },
    {
      "cell_type": "code",
      "metadata": {
        "id": "WuDRgmitMAHU"
      },
      "source": [
        "fcount = { }\n",
        "def outer(fn):\n",
        "  count = 0\n",
        "  def inner(*args, **kwargs):\n",
        "    nonlocal count\n",
        "    count += 1\n",
        "    print(f'{fn.__name__} was called {count} times')\n",
        "    fcount[fn.__name__] = count\n",
        "    return fn(*args, **kwargs)\n",
        "  return inner"
      ],
      "execution_count": null,
      "outputs": []
    },
    {
      "cell_type": "code",
      "metadata": {
        "id": "mrgRMWLzM1s0"
      },
      "source": [
        "def add(a,b):\n",
        "  return a+b\n",
        "\n",
        "def mul(a,b):\n",
        "  return a*b"
      ],
      "execution_count": null,
      "outputs": []
    },
    {
      "cell_type": "code",
      "metadata": {
        "id": "RqNjmyy4MvHs"
      },
      "source": [
        "add = outer(add)"
      ],
      "execution_count": null,
      "outputs": []
    },
    {
      "cell_type": "code",
      "metadata": {
        "colab": {
          "base_uri": "https://localhost:8080/"
        },
        "id": "v1TzkGR7My4b",
        "outputId": "6c638c40-9c24-45f4-cee2-0ba9c42a48f2"
      },
      "source": [
        "add(1,2)"
      ],
      "execution_count": null,
      "outputs": [
        {
          "output_type": "stream",
          "text": [
            "add was called 1 times\n"
          ],
          "name": "stdout"
        },
        {
          "output_type": "execute_result",
          "data": {
            "text/plain": [
              "3"
            ]
          },
          "metadata": {
            "tags": []
          },
          "execution_count": 47
        }
      ]
    },
    {
      "cell_type": "code",
      "metadata": {
        "colab": {
          "base_uri": "https://localhost:8080/"
        },
        "id": "Q3Dd7G6pM4Dg",
        "outputId": "a2b515b6-3dd0-40d7-974e-4ad7d6774a5e"
      },
      "source": [
        "add(3,4)"
      ],
      "execution_count": null,
      "outputs": [
        {
          "output_type": "stream",
          "text": [
            "add was called 2 times\n"
          ],
          "name": "stdout"
        },
        {
          "output_type": "execute_result",
          "data": {
            "text/plain": [
              "7"
            ]
          },
          "metadata": {
            "tags": []
          },
          "execution_count": 48
        }
      ]
    },
    {
      "cell_type": "code",
      "metadata": {
        "colab": {
          "base_uri": "https://localhost:8080/"
        },
        "id": "ulTHcdkiM6Eb",
        "outputId": "6149e947-3045-4fbd-d4fa-e833aade186b"
      },
      "source": [
        "fcount"
      ],
      "execution_count": null,
      "outputs": [
        {
          "output_type": "execute_result",
          "data": {
            "text/plain": [
              "{'add': 2}"
            ]
          },
          "metadata": {
            "tags": []
          },
          "execution_count": 49
        }
      ]
    },
    {
      "cell_type": "code",
      "metadata": {
        "id": "R4yv2u4TM8q8"
      },
      "source": [
        "mul = outer(mul)"
      ],
      "execution_count": null,
      "outputs": []
    },
    {
      "cell_type": "code",
      "metadata": {
        "colab": {
          "base_uri": "https://localhost:8080/"
        },
        "id": "YL_NLI_NNAdP",
        "outputId": "3a238907-8fbf-43de-94fc-3e84e33cbba0"
      },
      "source": [
        "mul(2,2)"
      ],
      "execution_count": null,
      "outputs": [
        {
          "output_type": "stream",
          "text": [
            "mul was called 1 times\n"
          ],
          "name": "stdout"
        },
        {
          "output_type": "execute_result",
          "data": {
            "text/plain": [
              "4"
            ]
          },
          "metadata": {
            "tags": []
          },
          "execution_count": 51
        }
      ]
    },
    {
      "cell_type": "code",
      "metadata": {
        "colab": {
          "base_uri": "https://localhost:8080/"
        },
        "id": "7m70ICvKNCPc",
        "outputId": "9ac0fef6-62f7-4d64-f972-b73898ad1c91"
      },
      "source": [
        "fcount"
      ],
      "execution_count": null,
      "outputs": [
        {
          "output_type": "execute_result",
          "data": {
            "text/plain": [
              "{'add': 2, 'mul': 1}"
            ]
          },
          "metadata": {
            "tags": []
          },
          "execution_count": 52
        }
      ]
    },
    {
      "cell_type": "code",
      "metadata": {
        "id": "dGK54OPdNDLb"
      },
      "source": [
        ""
      ],
      "execution_count": null,
      "outputs": []
    },
    {
      "cell_type": "markdown",
      "metadata": {
        "id": "5Hdn-EQWOktV"
      },
      "source": [
        "# Decorators"
      ]
    },
    {
      "cell_type": "code",
      "metadata": {
        "id": "-65VIf04OnUq"
      },
      "source": [
        "from functools import wraps\n",
        "fcount = { }\n",
        "def outer(fn):\n",
        "  count = 0\n",
        "  @wraps(fn)\n",
        "  def inner(*args, **kwargs):\n",
        "    nonlocal count\n",
        "    count += 1\n",
        "    print(f'{fn.__name__} was called {count} times')\n",
        "    fcount[fn.__name__] = count\n",
        "    return fn(*args, **kwargs)\n",
        "  return inner"
      ],
      "execution_count": null,
      "outputs": []
    },
    {
      "cell_type": "code",
      "metadata": {
        "id": "SH3-Bn45O3LZ"
      },
      "source": [
        "@outer\n",
        "def add(a,b):\n",
        "  return a+b\n",
        "\n",
        "@outer\n",
        "def mul(a,b):\n",
        "  return a*b"
      ],
      "execution_count": null,
      "outputs": []
    },
    {
      "cell_type": "code",
      "metadata": {
        "colab": {
          "base_uri": "https://localhost:8080/"
        },
        "id": "9Xy0AjQXO_cA",
        "outputId": "bb160e30-f224-4236-9189-1002e666938c"
      },
      "source": [
        "add(1,2)"
      ],
      "execution_count": null,
      "outputs": [
        {
          "output_type": "stream",
          "text": [
            "add was called 1 times\n"
          ],
          "name": "stdout"
        },
        {
          "output_type": "execute_result",
          "data": {
            "text/plain": [
              "3"
            ]
          },
          "metadata": {
            "tags": []
          },
          "execution_count": 55
        }
      ]
    },
    {
      "cell_type": "code",
      "metadata": {
        "colab": {
          "base_uri": "https://localhost:8080/"
        },
        "id": "cuDj8MAbPBOQ",
        "outputId": "9685e0b5-f152-4e43-892e-ddd835b29fee"
      },
      "source": [
        "fcount"
      ],
      "execution_count": null,
      "outputs": [
        {
          "output_type": "execute_result",
          "data": {
            "text/plain": [
              "{'add': 1}"
            ]
          },
          "metadata": {
            "tags": []
          },
          "execution_count": 56
        }
      ]
    },
    {
      "cell_type": "code",
      "metadata": {
        "colab": {
          "base_uri": "https://localhost:8080/"
        },
        "id": "6v8AspkXPFaw",
        "outputId": "b1c32fa4-2235-4649-e558-6b77264e5f2f"
      },
      "source": [
        "mul(3,3)"
      ],
      "execution_count": null,
      "outputs": [
        {
          "output_type": "stream",
          "text": [
            "mul was called 1 times\n"
          ],
          "name": "stdout"
        },
        {
          "output_type": "execute_result",
          "data": {
            "text/plain": [
              "9"
            ]
          },
          "metadata": {
            "tags": []
          },
          "execution_count": 57
        }
      ]
    },
    {
      "cell_type": "code",
      "metadata": {
        "colab": {
          "base_uri": "https://localhost:8080/"
        },
        "id": "2tFzTOqVPGwl",
        "outputId": "4f5cf19e-c8c4-4618-86b0-9ec68f8bb617"
      },
      "source": [
        "fcount"
      ],
      "execution_count": null,
      "outputs": [
        {
          "output_type": "execute_result",
          "data": {
            "text/plain": [
              "{'add': 1, 'mul': 1}"
            ]
          },
          "metadata": {
            "tags": []
          },
          "execution_count": 58
        }
      ]
    },
    {
      "cell_type": "code",
      "metadata": {
        "id": "tUiIuRNSPHaQ"
      },
      "source": [
        "# Decorator Factory\n",
        "def dec_factory(value):\n",
        "  print(\"inside dec factory and the value is : {}\".format(value))\n",
        "  def dec(fn):\n",
        "    print(\"inside dec\")\n",
        "    def inner(*args, **kwargs):\n",
        "      print(\"inside the inner and the value is : {}\".format(value))\n",
        "      return fn(*args, **kwargs)\n",
        "    return inner\n",
        "  return dec"
      ],
      "execution_count": null,
      "outputs": []
    },
    {
      "cell_type": "code",
      "metadata": {
        "colab": {
          "base_uri": "https://localhost:8080/"
        },
        "id": "m1qUI7HRQzGx",
        "outputId": "0c4524d7-40f7-4055-fa4c-552739408428"
      },
      "source": [
        "@dec_factory(10)\n",
        "def my_func():\n",
        "  print(\"this is my func\")"
      ],
      "execution_count": null,
      "outputs": [
        {
          "output_type": "stream",
          "text": [
            "inside dec factory and the value is : 10\n",
            "inside dec\n"
          ],
          "name": "stdout"
        }
      ]
    },
    {
      "cell_type": "code",
      "metadata": {
        "colab": {
          "base_uri": "https://localhost:8080/"
        },
        "id": "XHqbOigWQ1qe",
        "outputId": "76eb9428-9169-482b-b8a1-73b05cc103f0"
      },
      "source": [
        "my_func()"
      ],
      "execution_count": null,
      "outputs": [
        {
          "output_type": "stream",
          "text": [
            "inside the inner and the value is : 10\n",
            "this is my func\n"
          ],
          "name": "stdout"
        }
      ]
    },
    {
      "cell_type": "code",
      "metadata": {
        "id": "zPN0HrrsQ4CO"
      },
      "source": [
        "# Decorator class\n",
        "class Myclass:\n",
        "  def __init__(self, a,b):\n",
        "    self.a = a\n",
        "    self.b = b\n",
        "  \n",
        "  def __call__(self, fun):\n",
        "    def inner(*args, **kwargs):\n",
        "      print(\"the value of a is : {}, the value of b is : {}\".format(self.a, self.b))\n",
        "      print(\"inside the inner function\")\n",
        "      return fun(*args, **kwargs)\n",
        "    return inner\n"
      ],
      "execution_count": null,
      "outputs": []
    },
    {
      "cell_type": "code",
      "metadata": {
        "id": "zwwFxnHYRdrH"
      },
      "source": [
        "@Myclass(10, 20)\n",
        "def my_func():\n",
        "  print(\"this is my func\")"
      ],
      "execution_count": null,
      "outputs": []
    },
    {
      "cell_type": "code",
      "metadata": {
        "colab": {
          "base_uri": "https://localhost:8080/"
        },
        "id": "fePcEmgXRfzH",
        "outputId": "cc18adb1-7ffb-4d42-cde5-ea46bdba3928"
      },
      "source": [
        "my_func()"
      ],
      "execution_count": null,
      "outputs": [
        {
          "output_type": "stream",
          "text": [
            "the value of a is : 10, the value of b is : 20\n",
            "inside the inner function\n",
            "this is my func\n"
          ],
          "name": "stdout"
        }
      ]
    },
    {
      "cell_type": "code",
      "metadata": {
        "id": "flvwBzjzTTfg"
      },
      "source": [
        "def speak(cls):\n",
        "  cls.speak = lambda self, message: \"The message from {} is {} \".format(cls.__name__, message)\n",
        "  return cls"
      ],
      "execution_count": null,
      "outputs": []
    },
    {
      "cell_type": "code",
      "metadata": {
        "id": "vYQdjRFGTX5k"
      },
      "source": [
        "@speak\n",
        "class jumba:\n",
        "  pass"
      ],
      "execution_count": null,
      "outputs": []
    },
    {
      "cell_type": "code",
      "metadata": {
        "colab": {
          "base_uri": "https://localhost:8080/",
          "height": 35
        },
        "id": "BGoYKNj2TgbB",
        "outputId": "e52c2edd-ef3f-4611-98d3-62cb7b186cc1"
      },
      "source": [
        "jumba().speak(\"MG Hector\")"
      ],
      "execution_count": null,
      "outputs": [
        {
          "output_type": "execute_result",
          "data": {
            "application/vnd.google.colaboratory.intrinsic+json": {
              "type": "string"
            },
            "text/plain": [
              "'The message from jumba is MG Hector '"
            ]
          },
          "metadata": {
            "tags": []
          },
          "execution_count": 78
        }
      ]
    },
    {
      "cell_type": "code",
      "metadata": {
        "id": "-32aGGDvRjwX"
      },
      "source": [
        ""
      ],
      "execution_count": null,
      "outputs": []
    },
    {
      "cell_type": "markdown",
      "metadata": {
        "id": "UvdkLoixRuIX"
      },
      "source": [
        "# Monkey Patching"
      ]
    },
    {
      "cell_type": "code",
      "metadata": {
        "id": "9EqN56q_RwrV"
      },
      "source": [
        "class Arth:\n",
        "  a = 10\n",
        "  def sum(self,a,b):\n",
        "    return (a+b)\n",
        "  def div(self,a, b):\n",
        "    return (a/b)"
      ],
      "execution_count": null,
      "outputs": []
    },
    {
      "cell_type": "code",
      "metadata": {
        "id": "ReUdNKrsSQtn"
      },
      "source": [
        "a = Arth()"
      ],
      "execution_count": null,
      "outputs": []
    },
    {
      "cell_type": "code",
      "metadata": {
        "colab": {
          "base_uri": "https://localhost:8080/"
        },
        "id": "aVRyhZzjSSrl",
        "outputId": "924b736b-adf7-439f-bbaf-7c196c0c6280"
      },
      "source": [
        "a.sum(1,2)"
      ],
      "execution_count": null,
      "outputs": [
        {
          "output_type": "execute_result",
          "data": {
            "text/plain": [
              "3"
            ]
          },
          "metadata": {
            "tags": []
          },
          "execution_count": 70
        }
      ]
    },
    {
      "cell_type": "code",
      "metadata": {
        "id": "d0MxeIpOSUR1"
      },
      "source": [
        "a.sum = lambda x,y: x*y"
      ],
      "execution_count": null,
      "outputs": []
    },
    {
      "cell_type": "code",
      "metadata": {
        "colab": {
          "base_uri": "https://localhost:8080/"
        },
        "id": "egRn9BZLSfLW",
        "outputId": "84fd49a1-20b8-4ea4-e6a7-ac556618ffc3"
      },
      "source": [
        "a.sum(1,2)"
      ],
      "execution_count": null,
      "outputs": [
        {
          "output_type": "execute_result",
          "data": {
            "text/plain": [
              "2"
            ]
          },
          "metadata": {
            "tags": []
          },
          "execution_count": 72
        }
      ]
    },
    {
      "cell_type": "code",
      "metadata": {
        "id": "u-jkceLqUC0A"
      },
      "source": [
        ""
      ],
      "execution_count": null,
      "outputs": []
    },
    {
      "cell_type": "markdown",
      "metadata": {
        "id": "5fiao8JgUMRQ"
      },
      "source": [
        "# Named Tuples"
      ]
    },
    {
      "cell_type": "code",
      "metadata": {
        "id": "rAZZvQkmUOYO"
      },
      "source": [
        "from collections import namedtuple"
      ],
      "execution_count": null,
      "outputs": []
    },
    {
      "cell_type": "code",
      "metadata": {
        "id": "RTMRcDVZUSYw"
      },
      "source": [
        "Point2d = namedtuple('Point', ['x','y'])"
      ],
      "execution_count": null,
      "outputs": []
    },
    {
      "cell_type": "code",
      "metadata": {
        "colab": {
          "base_uri": "https://localhost:8080/"
        },
        "id": "LDVuvERYUodw",
        "outputId": "32abe87d-b30f-4c04-a19a-f3b54c6e0be7"
      },
      "source": [
        "Point2d(10,20)"
      ],
      "execution_count": null,
      "outputs": [
        {
          "output_type": "execute_result",
          "data": {
            "text/plain": [
              "Point(x=10, y=20)"
            ]
          },
          "metadata": {
            "tags": []
          },
          "execution_count": 88
        }
      ]
    },
    {
      "cell_type": "code",
      "metadata": {
        "id": "UNVLmhTjVCBV"
      },
      "source": [
        ""
      ],
      "execution_count": null,
      "outputs": []
    },
    {
      "cell_type": "markdown",
      "metadata": {
        "id": "_SJQdPunVkP_"
      },
      "source": [
        "# Modules"
      ]
    },
    {
      "cell_type": "code",
      "metadata": {
        "colab": {
          "base_uri": "https://localhost:8080/"
        },
        "id": "zcrAT2OZVmrq",
        "outputId": "df89c70b-1a57-44a9-d80c-91fa69bf267d"
      },
      "source": [
        "import sys\n",
        "sys.meta_path"
      ],
      "execution_count": null,
      "outputs": [
        {
          "output_type": "execute_result",
          "data": {
            "text/plain": [
              "[<google.colab._import_hooks._cv2._OpenCVImportHook at 0x7f82df1e0898>,\n",
              " <google.colab._import_hooks._bokeh._BokehImportHook at 0x7f82df1e0f60>,\n",
              " <google.colab._import_hooks._altair._AltairImportHook at 0x7f82df1e0860>,\n",
              " _frozen_importlib.BuiltinImporter,\n",
              " _frozen_importlib.FrozenImporter,\n",
              " _frozen_importlib_external.PathFinder,\n",
              " <six._SixMetaPathImporter at 0x7f82f80f1cf8>,\n",
              " <pkg_resources.extern.VendorImporter at 0x7f82f691a0f0>,\n",
              " <urllib3.packages.six._SixMetaPathImporter at 0x7f82d8ac4710>]"
            ]
          },
          "metadata": {
            "tags": []
          },
          "execution_count": 89
        }
      ]
    },
    {
      "cell_type": "code",
      "metadata": {
        "id": "pq0KVZB6Vona"
      },
      "source": [
        "class Temp:\n",
        "  def __repr__(self):\n",
        "    return \"This is a temp class\"\n",
        "  def __init__(self):\n",
        "    pass"
      ],
      "execution_count": null,
      "outputs": []
    },
    {
      "cell_type": "code",
      "metadata": {
        "id": "ZP-xAccCxKL1"
      },
      "source": [
        "t = Temp()"
      ],
      "execution_count": null,
      "outputs": []
    },
    {
      "cell_type": "code",
      "metadata": {
        "colab": {
          "base_uri": "https://localhost:8080/"
        },
        "id": "ORymW6J6xeWr",
        "outputId": "b0691c72-8c43-4400-b497-35631b54c14d"
      },
      "source": [
        "t"
      ],
      "execution_count": null,
      "outputs": [
        {
          "output_type": "execute_result",
          "data": {
            "text/plain": [
              "This is a temp class"
            ]
          },
          "metadata": {
            "tags": []
          },
          "execution_count": 96
        }
      ]
    },
    {
      "cell_type": "code",
      "metadata": {
        "id": "SlHpuUzcxe9t"
      },
      "source": [
        "import time"
      ],
      "execution_count": null,
      "outputs": []
    },
    {
      "cell_type": "code",
      "metadata": {
        "id": "aVKkrkSex4fJ"
      },
      "source": [
        "from time import perf_counter"
      ],
      "execution_count": null,
      "outputs": []
    },
    {
      "cell_type": "code",
      "metadata": {
        "colab": {
          "base_uri": "https://localhost:8080/"
        },
        "id": "TofEMYm8yU8C",
        "outputId": "1cc291c5-bd83-4011-a19d-3c7af69786c6"
      },
      "source": [
        "perf_counter()"
      ],
      "execution_count": null,
      "outputs": [
        {
          "output_type": "execute_result",
          "data": {
            "text/plain": [
              "12400.718222506"
            ]
          },
          "metadata": {
            "tags": []
          },
          "execution_count": 100
        }
      ]
    },
    {
      "cell_type": "code",
      "metadata": {
        "colab": {
          "base_uri": "https://localhost:8080/"
        },
        "id": "jSPpCcaayXWP",
        "outputId": "679e7cbd-5445-4043-bbeb-ec2783fac964"
      },
      "source": [
        "range(10)"
      ],
      "execution_count": null,
      "outputs": [
        {
          "output_type": "execute_result",
          "data": {
            "text/plain": [
              "range(0, 10)"
            ]
          },
          "metadata": {
            "tags": []
          },
          "execution_count": 101
        }
      ]
    },
    {
      "cell_type": "code",
      "metadata": {
        "id": "kFrospz8Yj5Q"
      },
      "source": [
        ""
      ],
      "execution_count": null,
      "outputs": []
    }
  ]
}